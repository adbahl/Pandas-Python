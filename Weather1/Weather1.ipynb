{
 "cells": [
  {
   "cell_type": "markdown",
   "metadata": {},
   "source": [
    "Weather1: Data from input file rdu-weather-history.csv is preprocessed and the data is saved in output.csv.\n",
    "preprocessing consist of splitting data in rows and columns as it is in forms of a single column string and multiple rows.\n",
    "In the second part the output.csv is read and basic three panda command are executed on it.\n",
    "There was no data munging performed as there was no NA values and it was as per expectation."
   ]
  },
  {
   "cell_type": "code",
   "execution_count": 135,
   "metadata": {},
   "outputs": [],
   "source": [
    "import pandas as pd\n",
    "df = pd.read_csv('rdu-weather-history.csv')"
   ]
  },
  {
   "cell_type": "code",
   "execution_count": 136,
   "metadata": {},
   "outputs": [],
   "source": [
    "r_data = df.to_dict(orient =\"row\")"
   ]
  },
  {
   "cell_type": "code",
   "execution_count": 137,
   "metadata": {},
   "outputs": [],
   "source": [
    "datatosave =[]"
   ]
  },
  {
   "cell_type": "code",
   "execution_count": 138,
   "metadata": {},
   "outputs": [],
   "source": [
    "i=0\n",
    "for i in range(len(r_data)):\n",
    "    if i==0:\n",
    "        tempstr = r_data[i].popitem()\n",
    "        datatosave.append(tempstr[0].split(\";\"))\n",
    "        datatosave.append(tempstr[1].split(\";\"))\n",
    "    else:\n",
    "        datatosave.append(r_data[i].popitem()[1].split(\";\"))"
   ]
  },
  {
   "cell_type": "code",
   "execution_count": 139,
   "metadata": {},
   "outputs": [
    {
     "ename": "PermissionError",
     "evalue": "[Errno 13] Permission denied: 'output.csv'",
     "output_type": "error",
     "traceback": [
      "\u001b[1;31m---------------------------------------------------------------------------\u001b[0m",
      "\u001b[1;31mPermissionError\u001b[0m                           Traceback (most recent call last)",
      "\u001b[1;32m<ipython-input-139-9ad47a09bee8>\u001b[0m in \u001b[0;36m<module>\u001b[1;34m()\u001b[0m\n\u001b[0;32m      1\u001b[0m \u001b[1;32mimport\u001b[0m \u001b[0mcsv\u001b[0m\u001b[1;33m\u001b[0m\u001b[0m\n\u001b[0;32m      2\u001b[0m \u001b[1;33m\u001b[0m\u001b[0m\n\u001b[1;32m----> 3\u001b[1;33m \u001b[1;32mwith\u001b[0m \u001b[0mopen\u001b[0m\u001b[1;33m(\u001b[0m\u001b[1;34m\"output.csv\"\u001b[0m\u001b[1;33m,\u001b[0m \u001b[1;34m\"w\"\u001b[0m\u001b[1;33m)\u001b[0m \u001b[1;32mas\u001b[0m \u001b[0mfw\u001b[0m\u001b[1;33m:\u001b[0m\u001b[1;33m\u001b[0m\u001b[0m\n\u001b[0m\u001b[0;32m      4\u001b[0m     \u001b[0mwriter\u001b[0m \u001b[1;33m=\u001b[0m \u001b[0mcsv\u001b[0m\u001b[1;33m.\u001b[0m\u001b[0mwriter\u001b[0m\u001b[1;33m(\u001b[0m\u001b[0mfw\u001b[0m\u001b[1;33m)\u001b[0m\u001b[1;33m\u001b[0m\u001b[0m\n\u001b[0;32m      5\u001b[0m     \u001b[0mwriter\u001b[0m\u001b[1;33m.\u001b[0m\u001b[0mwriterows\u001b[0m\u001b[1;33m(\u001b[0m\u001b[0mdatatosave\u001b[0m\u001b[1;33m)\u001b[0m\u001b[1;33m\u001b[0m\u001b[0m\n",
      "\u001b[1;31mPermissionError\u001b[0m: [Errno 13] Permission denied: 'output.csv'"
     ]
    }
   ],
   "source": [
    "import csv \n",
    "\n",
    "with open(\"output.csv\", \"w\") as fw:\n",
    "    writer = csv.writer(fw)\n",
    "    writer.writerows(datatosave)"
   ]
  },
  {
   "cell_type": "code",
   "execution_count": 129,
   "metadata": {},
   "outputs": [],
   "source": [
    "df1 = pd.read_csv('output.csv')"
   ]
  },
  {
   "cell_type": "code",
   "execution_count": 131,
   "metadata": {},
   "outputs": [
    {
     "data": {
      "text/plain": [
       "105.1"
      ]
     },
     "execution_count": 131,
     "metadata": {},
     "output_type": "execute_result"
    }
   ],
   "source": [
    "df1['temperaturemax'].max()\n"
   ]
  },
  {
   "cell_type": "code",
   "execution_count": 132,
   "metadata": {},
   "outputs": [
    {
     "data": {
      "text/plain": [
       "28      2010-03-02\n",
       "265     2013-02-16\n",
       "836     2009-01-20\n",
       "841     2009-02-16\n",
       "843     2009-03-01\n",
       "911     2010-01-31\n",
       "978     2010-12-13\n",
       "982     2010-12-25\n",
       "985     2011-01-08\n",
       "991     2011-02-09\n",
       "1134    2013-01-25\n",
       "1313    2007-01-18\n",
       "1385    2008-01-19\n",
       "1431    2008-11-18\n",
       "1443    2009-01-19\n",
       "1454    2009-03-02\n",
       "2092    2007-02-01\n",
       "2095    2007-02-24\n",
       "2105    2007-04-07\n",
       "2157    2008-01-20\n",
       "2160    2008-02-13\n",
       "2332    2013-02-17\n",
       "2501    2010-02-05\n",
       "2505    2010-02-13\n",
       "2556    2010-12-16\n",
       "2657    2007-01-28\n",
       "2803    2009-02-03\n",
       "3110    2013-01-18\n",
       "3289    2009-12-18\n",
       "3296    2010-01-29\n",
       "3299    2010-02-12\n",
       "3302    2010-03-03\n",
       "3362    2010-12-04\n",
       "3368    2010-12-18\n",
       "3602    2013-01-17\n",
       "3785    2010-01-30\n",
       "3786    2010-02-06\n",
       "3789    2010-02-25\n",
       "3846    2010-12-26\n",
       "3850    2011-01-10\n",
       "3857    2011-02-10\n",
       "3933    2012-02-19\n",
       "3934    2012-02-20\n",
       "4205    2008-11-21\n",
       "4436    2008-01-02\n",
       "4440    2008-01-17\n",
       "4450    2008-02-14\n",
       "Name: date, dtype: object"
      ]
     },
     "execution_count": 132,
     "metadata": {},
     "output_type": "execute_result"
    }
   ],
   "source": [
    "df1['date'][df1['snow']=='Yes']"
   ]
  },
  {
   "cell_type": "code",
   "execution_count": 133,
   "metadata": {},
   "outputs": [
    {
     "data": {
      "text/plain": [
       "0.12949686940965968"
      ]
     },
     "execution_count": 133,
     "metadata": {},
     "output_type": "execute_result"
    }
   ],
   "source": [
    "df1['precipitation'].mean()\n"
   ]
  }
 ],
 "metadata": {
  "kernelspec": {
   "display_name": "Python 3",
   "language": "python",
   "name": "python3"
  },
  "language_info": {
   "codemirror_mode": {
    "name": "ipython",
    "version": 3
   },
   "file_extension": ".py",
   "mimetype": "text/x-python",
   "name": "python",
   "nbconvert_exporter": "python",
   "pygments_lexer": "ipython3",
   "version": "3.6.5"
  }
 },
 "nbformat": 4,
 "nbformat_minor": 2
}
